{
 "cells": [
  {
   "cell_type": "markdown",
   "metadata": {},
   "source": [
    "# Numbers in Python\n",
    "*Computers execute code, but humans read code*\n",
    "\n",
    "[https://realpython.com/python-numbers/](https://realpython.com/python-numbers/)"
   ]
  },
  {
   "cell_type": "markdown",
   "metadata": {},
   "source": [
    "Neste tutorial, você aprenderá como:\n",
    "- Crie números inteiros e de ponto flutuante\n",
    "- Arredonde os números para um determinado número de casas decimais\n",
    "- Formatar e exibir números em strings"
   ]
  },
  {
   "cell_type": "markdown",
   "metadata": {},
   "source": [
    "## Números inteiros e de ponto flutuante"
   ]
  },
  {
   "cell_type": "markdown",
   "metadata": {},
   "source": [
    "### Inteiros"
   ]
  },
  {
   "cell_type": "code",
   "execution_count": 3,
   "metadata": {},
   "outputs": [
    {
     "data": {
      "text/plain": [
       "int"
      ]
     },
     "execution_count": 3,
     "metadata": {},
     "output_type": "execute_result"
    }
   ],
   "source": [
    "# Um inteiro é um número sem casas decimais. Em Python, o inteiro tem a\n",
    "# classe int.\n",
    "type(1)"
   ]
  },
  {
   "cell_type": "code",
   "execution_count": 4,
   "metadata": {},
   "outputs": [
    {
     "data": {
      "text/plain": [
       "25"
      ]
     },
     "execution_count": 4,
     "metadata": {},
     "output_type": "execute_result"
    }
   ],
   "source": [
    "# Um número pode ser atribuído a uma variável.\n",
    "num = 25\n",
    "num"
   ]
  },
  {
   "cell_type": "code",
   "execution_count": 7,
   "metadata": {},
   "outputs": [
    {
     "name": "stdout",
     "output_type": "stream",
     "text": [
      "Valor: 25 | classe: <class 'int'>\n"
     ]
    }
   ],
   "source": [
    "# Para converter uma string em um número, usamos o método int().\n",
    "num = int(\"25\")\n",
    "print(f\"Valor: {num} | classe: {type(num)}\")"
   ]
  },
  {
   "cell_type": "code",
   "execution_count": 10,
   "metadata": {},
   "outputs": [
    {
     "name": "stdout",
     "output_type": "stream",
     "text": [
      "1000000 == 1_000_000 ? True\n"
     ]
    }
   ],
   "source": [
    "# Podemos usar o underscore como separador de milhar.\n",
    "num_sem_separador = 1000000\n",
    "num_com_separador = 1_000_000\n",
    "\n",
    "print(f\"1000000 == 1_000_000 ? {num_sem_separador == num_com_separador}\")"
   ]
  },
  {
   "cell_type": "code",
   "execution_count": 1,
   "metadata": {},
   "outputs": [
    {
     "name": "stdout",
     "output_type": "stream",
     "text": [
      "99999999999999999999999999999999999999999999999999999999999999999999999999999999999999999999999999999999999999999999999999999999999999999999999999999999999999999999999999999999999999999999999999999999999999999999999999999999999999999999999999999999999999999999999999999999999999999999999999999999999999999999999999999999999999999999999999999999999999999999999999999999999999999999999999999999999999999999999999999999999999999999999999999999999999999999999999999999999999999999999999999999999999999999999999999999999999999999999999999999999999999999999999999999999999999999999999999999999999999999999999999999999999999999999999999999999999999999999999999999999999999999999999999999999999999999999999999999999999999999999999999999999999999999999999999999999999999999999999999999999999999999999999999999999999999999999999999999999999999999999999999999999999999999999999999999999999999999999999999999999999999999999999999999999999999999999999999999999999999999999999999999999999999999999999999999999999999999999999999999999999999999999999999999999999999999999999999999999999999999999999999999999999999999999999999999999999999999999999999999999999999999999999999999999999999999999999999999999999999999999999999999999999999999999999999999999999999999999999999999999999999999999999999999999999999999999999999999999999999999999999999999999999999999999999999999999999999999999999999999999999999999999999999999999999999999999999999999999999999999999999999999999999999999\n",
      "\n",
      "100000000000000000000000000000000000000000000000000000000000000000000000000000000000000000000000000000000000000000000000000000000000000000000000000000000000000000000000000000000000000000000000000000000000000000000000000000000000000000000000000000000000000000000000000000000000000000000000000000000000000000000000000000000000000000000000000000000000000000000000000000000000000000000000000000000000000000000000000000000000000000000000000000000000000000000000000000000000000000000000000000000000000000000000000000000000000000000000000000000000000000000000000000000000000000000000000000000000000000000000000000000000000000000000000000000000000000000000000000000000000000000000000000000000000000000000000000000000000000000000000000000000000000000000000000000000000000000000000000000000000000000000000000000000000000000000000000000000000000000000000000000000000000000000000000000000000000000000000000000000000000000000000000000000000000000000000000000000000000000000000000000000000000000000000000000000000000000000000000000000000000000000000000000000000000000000000000000000000000000000000000000000000000000000000000000000000000000000000000000000000000000000000000000000000000000000000000000000000000000000000000000000000000000000000000000000000000000000000000000000000000000000000000000000000000000000000000000000000000000000000000000000000000000000000000000000000000000000000000000000000000000000000000000000000000000000000000000000000000000000000000000000000000000\n"
     ]
    }
   ],
   "source": [
    "# Python pode ter números inteiro indecentemente grandes\n",
    "num_grande_pra_carai = int(\n",
    "    \"9999999999999999999999999999999999999999999999999999999999999999999999999\"\n",
    "    \"9999999999999999999999999999999999999999999999999999999999999999999999999\"\n",
    "    \"9999999999999999999999999999999999999999999999999999999999999999999999999\"\n",
    "    \"9999999999999999999999999999999999999999999999999999999999999999999999999\"\n",
    "    \"9999999999999999999999999999999999999999999999999999999999999999999999999\"\n",
    "    \"9999999999999999999999999999999999999999999999999999999999999999999999999\"\n",
    "    \"9999999999999999999999999999999999999999999999999999999999999999999999999\"\n",
    "    \"9999999999999999999999999999999999999999999999999999999999999999999999999\"\n",
    "    \"9999999999999999999999999999999999999999999999999999999999999999999999999\"\n",
    "    \"9999999999999999999999999999999999999999999999999999999999999999999999999\"\n",
    "    \"9999999999999999999999999999999999999999999999999999999999999999999999999\"\n",
    "    \"9999999999999999999999999999999999999999999999999999999999999999999999999\"\n",
    "    \"9999999999999999999999999999999999999999999999999999999999999999999999999\"\n",
    "    \"9999999999999999999999999999999999999999999999999999999999999999999999999\"\n",
    "    \"9999999999999999999999999999999999999999999999999999999999999999999999999\"\n",
    "    \"9999999999999999999999999999999999999999999999999999999999999999999999999\"\n",
    "    \"9999999999999999999999999999999999999999999999999999999999999999999999999\"\n",
    "    \"9999999999999999999999999999999999999999999999999999999999999999999999999\"\n",
    "    \"9999999999999999999999999999999999999999999999999999999999999999999999999\"\n",
    "    \"9999999999999999999999999999999999999999999999999999999999999999999999999\"\n",
    ")\n",
    "\n",
    "print(num_grande_pra_carai)\n",
    "\n",
    "num_grande_pra_carai = num_grande_pra_carai + 1\n",
    "\n",
    "print()\n",
    "print(num_grande_pra_carai)"
   ]
  },
  {
   "cell_type": "code",
   "execution_count": null,
   "metadata": {},
   "outputs": [],
   "source": []
  },
  {
   "cell_type": "markdown",
   "metadata": {},
   "source": [
    "### Números de ponto flutuante"
   ]
  },
  {
   "cell_type": "code",
   "execution_count": 1,
   "metadata": {},
   "outputs": [
    {
     "data": {
      "text/plain": [
       "float"
      ]
     },
     "execution_count": 1,
     "metadata": {},
     "output_type": "execute_result"
    }
   ],
   "source": [
    "# Números de ponto flutuante são números com casas decimais.\n",
    "type(1.0)"
   ]
  },
  {
   "cell_type": "code",
   "execution_count": 3,
   "metadata": {},
   "outputs": [
    {
     "name": "stdout",
     "output_type": "stream",
     "text": [
      "Valor: 1000000.0 | classe: <class 'float'>\n",
      "Valor: 1000000.0 | classe: <class 'float'>\n",
      "Valor: 1000000.0 | classe: <class 'float'>\n"
     ]
    }
   ],
   "source": [
    "# Há três maneiras de criar um número de ponto flutuante:\n",
    "\n",
    "# Declarar o literal normalmente\n",
    "numero_normal = 1000000.0\n",
    "print(f\"Valor: {numero_normal} | classe: {type(numero_normal)}\")\n",
    "\n",
    "# Declarar o literal com separador de milhar\n",
    "numero_com_separador = 1_000_000.0\n",
    "print(f\"Valor: {numero_com_separador} | classe: {type(numero_com_separador)}\")\n",
    "\n",
    "# usar a notação E\n",
    "numero_com_notacao_e = 1e6\n",
    "print(f\"Valor: {numero_com_notacao_e} | classe: {type(numero_com_notacao_e)}\")\n"
   ]
  },
  {
   "cell_type": "code",
   "execution_count": 4,
   "metadata": {},
   "outputs": [
    {
     "data": {
      "text/plain": [
       "2e+17"
      ]
     },
     "execution_count": 4,
     "metadata": {},
     "output_type": "execute_result"
    }
   ],
   "source": [
    "# Números grandes podem ser exibidos com a notação E. O + indica que o expoente\n",
    "# é positivo. No caso, o expoente é de 17.\n",
    "200000000000000000.0"
   ]
  },
  {
   "cell_type": "code",
   "execution_count": 5,
   "metadata": {},
   "outputs": [
    {
     "data": {
      "text/plain": [
       "4e-13"
      ]
     },
     "execution_count": 5,
     "metadata": {},
     "output_type": "execute_result"
    }
   ],
   "source": [
    "# Caso o expoente seja negativo, o número é menor que 1\n",
    "0.0000000000004\n"
   ]
  },
  {
   "cell_type": "code",
   "execution_count": 9,
   "metadata": {},
   "outputs": [
    {
     "data": {
      "text/plain": [
       "inf"
      ]
     },
     "execution_count": 9,
     "metadata": {},
     "output_type": "execute_result"
    }
   ],
   "source": [
    "# Diferente dos inteiros, os floats tem um tamanho máximo, que é dependente do\n",
    "# sistema, e varia em torno de 2x10^400.\n",
    "# Curiosidade: esse número é maior que o número de átomos no universo.\n",
    "a = 2e400\n",
    "a"
   ]
  },
  {
   "cell_type": "code",
   "execution_count": 10,
   "metadata": {},
   "outputs": [
    {
     "data": {
      "text/plain": [
       "float"
      ]
     },
     "execution_count": 10,
     "metadata": {},
     "output_type": "execute_result"
    }
   ],
   "source": [
    "# Quando você atinge o valor máximo, o número é truncado para o valor inf\n",
    "# (infinito).O tipo de inf é float\n",
    "type(a)"
   ]
  },
  {
   "cell_type": "code",
   "execution_count": 12,
   "metadata": {},
   "outputs": [
    {
     "data": {
      "text/plain": [
       "inf"
      ]
     },
     "execution_count": 12,
     "metadata": {},
     "output_type": "execute_result"
    }
   ],
   "source": [
    "# Você pode obter o valor inf com a função float(\"inf\"). Assim, obtemos o\n",
    "# maior valor para float python em uma dada plataforma\n",
    "float(\"inf\")"
   ]
  },
  {
   "cell_type": "code",
   "execution_count": 15,
   "metadata": {},
   "outputs": [
    {
     "name": "stdout",
     "output_type": "stream",
     "text": [
      "Soma: inf | Classe: <class 'float'>\n",
      "Subtração: inf | Classe: <class 'float'>\n"
     ]
    }
   ],
   "source": [
    "# Qualquer operação com inf retorna um inf\n",
    "soma = float(\"inf\") + 10000\n",
    "print(f\"Soma: {soma} | Classe: {type(soma)}\")\n",
    "\n",
    "subtracao = float(\"inf\") - 10000\n",
    "print(f\"Subtração: {subtracao} | Classe: {type(subtracao)}\")\n"
   ]
  },
  {
   "cell_type": "code",
   "execution_count": 16,
   "metadata": {},
   "outputs": [
    {
     "data": {
      "text/plain": [
       "-inf"
      ]
     },
     "execution_count": 16,
     "metadata": {},
     "output_type": "execute_result"
    }
   ],
   "source": [
    "# Se inf é o maior valor, -inf nidica o menor valor\n",
    "-2e400"
   ]
  },
  {
   "cell_type": "markdown",
   "metadata": {},
   "source": [
    "### Exercícios"
   ]
  },
  {
   "cell_type": "markdown",
   "metadata": {},
   "source": [
    "1. Escreva um programa que crie duas variáveis, `num1` e `num2`. Tanto `num1` quanto `num2` devem ser atribuídos ao literal inteiro `25000000`, um escrito com sublinhados e outro sem. Imprima `num1` e `num2` em duas linhas separadas."
   ]
  },
  {
   "cell_type": "code",
   "execution_count": 18,
   "metadata": {},
   "outputs": [
    {
     "name": "stdout",
     "output_type": "stream",
     "text": [
      "num1 == 25000000\n",
      "num2 == 25000000\n"
     ]
    }
   ],
   "source": [
    "num1 = 25000000\n",
    "num2 = 25_000_000\n",
    "print(f\"num1 == {num1}\")\n",
    "print(f\"num2 == {num2}\")"
   ]
  },
  {
   "cell_type": "markdown",
   "metadata": {},
   "source": [
    "## Operadores aritméticos e expressões"
   ]
  },
  {
   "cell_type": "markdown",
   "metadata": {},
   "source": [
    "### Adição"
   ]
  },
  {
   "cell_type": "code",
   "execution_count": 20,
   "metadata": {},
   "outputs": [
    {
     "data": {
      "text/plain": [
       "3"
      ]
     },
     "execution_count": 20,
     "metadata": {},
     "output_type": "execute_result"
    }
   ],
   "source": [
    "# Adição é feita com o operador +\n",
    "1 + 2"
   ]
  },
  {
   "cell_type": "code",
   "execution_count": 21,
   "metadata": {},
   "outputs": [
    {
     "data": {
      "text/plain": [
       "6.0"
      ]
     },
     "execution_count": 21,
     "metadata": {},
     "output_type": "execute_result"
    }
   ],
   "source": [
    "# Os operandos não precisam ser do mesmo tipo\n",
    "2.0 + 4"
   ]
  },
  {
   "cell_type": "markdown",
   "metadata": {},
   "source": [
    "### Subtração"
   ]
  },
  {
   "cell_type": "code",
   "execution_count": 23,
   "metadata": {},
   "outputs": [
    {
     "data": {
      "text/plain": [
       "2"
      ]
     },
     "execution_count": 23,
     "metadata": {},
     "output_type": "execute_result"
    }
   ],
   "source": [
    "# A subtração é feita com o operador -\n",
    "4 - 2"
   ]
  },
  {
   "cell_type": "code",
   "execution_count": 25,
   "metadata": {},
   "outputs": [
    {
     "data": {
      "text/plain": [
       "2.0"
      ]
     },
     "execution_count": 25,
     "metadata": {},
     "output_type": "execute_result"
    }
   ],
   "source": [
    "5.0 - 3"
   ]
  },
  {
   "cell_type": "code",
   "execution_count": 27,
   "metadata": {},
   "outputs": [
    {
     "data": {
      "text/plain": [
       "-4"
      ]
     },
     "execution_count": 27,
     "metadata": {},
     "output_type": "execute_result"
    }
   ],
   "source": [
    "# O operador de - também é usado para denotar números negativos\n",
    "-4"
   ]
  },
  {
   "cell_type": "markdown",
   "metadata": {},
   "source": [
    "Você pode subtrair um número negativo de outro número mas, como você pode\n",
    "ver abaixo, às vezes pode parecer confuso:\n",
    "```python\n",
    "print(10--5)\n",
    "print(10 --5)\n",
    "print(10- -5)\n",
    "print(10-- 5)\n",
    "print(10- - 5)\n",
    "print(10 -- 5)\n",
    "print(10 - -5)\n",
    "print(10 - - 5)\n",
    "```"
   ]
  },
  {
   "cell_type": "code",
   "execution_count": 30,
   "metadata": {},
   "outputs": [
    {
     "name": "stdout",
     "output_type": "stream",
     "text": [
      "15\n"
     ]
    }
   ],
   "source": [
    "# Para evitar confusão, você pode usar os parênteses para delimitar o número\n",
    "print(10 - (-5))"
   ]
  },
  {
   "cell_type": "markdown",
   "metadata": {},
   "source": [
    "### Multiplicação"
   ]
  },
  {
   "cell_type": "code",
   "execution_count": 31,
   "metadata": {},
   "outputs": [
    {
     "data": {
      "text/plain": [
       "20"
      ]
     },
     "execution_count": 31,
     "metadata": {},
     "output_type": "execute_result"
    }
   ],
   "source": [
    "# A multiplicação é feita com o operador *\n",
    "4 * 5"
   ]
  },
  {
   "cell_type": "code",
   "execution_count": 32,
   "metadata": {},
   "outputs": [
    {
     "data": {
      "text/plain": [
       "160.0"
      ]
     },
     "execution_count": 32,
     "metadata": {},
     "output_type": "execute_result"
    }
   ],
   "source": [
    "# A multiplicação segue a mesma regra de conversão de tipos que os operadores\n",
    "# de soma e de subtração\n",
    "20.0 * 8"
   ]
  },
  {
   "cell_type": "markdown",
   "metadata": {},
   "source": [
    "### Divisão"
   ]
  },
  {
   "cell_type": "code",
   "execution_count": 34,
   "metadata": {},
   "outputs": [
    {
     "data": {
      "text/plain": [
       "3.0"
      ]
     },
     "execution_count": 34,
     "metadata": {},
     "output_type": "execute_result"
    }
   ],
   "source": [
    "#  A divisão é feita com o operador /\n",
    "9 / 3"
   ]
  },
  {
   "cell_type": "code",
   "execution_count": 35,
   "metadata": {},
   "outputs": [
    {
     "data": {
      "text/plain": [
       "3"
      ]
     },
     "execution_count": 35,
     "metadata": {},
     "output_type": "execute_result"
    }
   ],
   "source": [
    "# Diferente da adição, multiplicação e divisão, a divisão sempre retorna um\n",
    "# número de ponto flutuante. Se você quiser um resultado inteiro, é preciso\n",
    "# usar a conversão int()\n",
    "int(9 / 3)\n"
   ]
  },
  {
   "cell_type": "code",
   "execution_count": 37,
   "metadata": {},
   "outputs": [
    {
     "data": {
      "text/plain": [
       "2"
      ]
     },
     "execution_count": 37,
     "metadata": {},
     "output_type": "execute_result"
    }
   ],
   "source": [
    "# Ao converter um número pra int, o python descarta a parte fracionária\n",
    "int(5.0 / 2)"
   ]
  },
  {
   "cell_type": "markdown",
   "metadata": {},
   "source": [
    "### Divisão inteira"
   ]
  },
  {
   "cell_type": "code",
   "execution_count": 38,
   "metadata": {},
   "outputs": [
    {
     "name": "stdout",
     "output_type": "stream",
     "text": [
      "3\n",
      "2.0\n",
      "-2\n"
     ]
    }
   ],
   "source": [
    "# Sew o que você quer é dividir um número e obter a parte inteira da divisão, o\n",
    "# operador // deve ser usado\n",
    "a = 9 // 3\n",
    "print(a)\n",
    "\n",
    "b = 5.0 // 2\n",
    "print(b)\n",
    "\n",
    "c = -3 // 2\n",
    "print(c)\n"
   ]
  },
  {
   "cell_type": "code",
   "execution_count": 39,
   "metadata": {},
   "outputs": [
    {
     "ename": "ZeroDivisionError",
     "evalue": "division by zero",
     "output_type": "error",
     "traceback": [
      "\u001b[1;31m---------------------------------------------------------------------------\u001b[0m",
      "\u001b[1;31mZeroDivisionError\u001b[0m                         Traceback (most recent call last)",
      "\u001b[1;32m~\\AppData\\Local\\Temp/ipykernel_33396/2794377945.py\u001b[0m in \u001b[0;36m<module>\u001b[1;34m\u001b[0m\n\u001b[0;32m      1\u001b[0m \u001b[1;31m# Atenção: a divisão por zero lança uma exceção ZeroDivisionError\u001b[0m\u001b[1;33m\u001b[0m\u001b[1;33m\u001b[0m\u001b[0m\n\u001b[1;32m----> 2\u001b[1;33m \u001b[1;36m1\u001b[0m \u001b[1;33m/\u001b[0m \u001b[1;36m0\u001b[0m\u001b[1;33m\u001b[0m\u001b[1;33m\u001b[0m\u001b[0m\n\u001b[0m",
      "\u001b[1;31mZeroDivisionError\u001b[0m: division by zero"
     ]
    }
   ],
   "source": [
    "# Atenção: a divisão por zero lança uma exceção ZeroDivisionError\n",
    "1 / 0"
   ]
  },
  {
   "cell_type": "markdown",
   "metadata": {},
   "source": [
    "### Exponenciação"
   ]
  },
  {
   "cell_type": "code",
   "execution_count": 40,
   "metadata": {},
   "outputs": [
    {
     "data": {
      "text/plain": [
       "9"
      ]
     },
     "execution_count": 40,
     "metadata": {},
     "output_type": "execute_result"
    }
   ],
   "source": [
    "# A exponenciação é feita com o operador **\n",
    "3 ** 2"
   ]
  },
  {
   "cell_type": "code",
   "execution_count": 42,
   "metadata": {},
   "outputs": [
    {
     "data": {
      "text/plain": [
       "5.196152422706632"
      ]
     },
     "execution_count": 42,
     "metadata": {},
     "output_type": "execute_result"
    }
   ],
   "source": [
    "# Expoentes não precisam ser inteiros. Eles podem ser de ponto flutuante\n",
    "3 ** 1.5"
   ]
  },
  {
   "cell_type": "code",
   "execution_count": 43,
   "metadata": {},
   "outputs": [
    {
     "data": {
      "text/plain": [
       "3.0"
      ]
     },
     "execution_count": 43,
     "metadata": {},
     "output_type": "execute_result"
    }
   ],
   "source": [
    "9 ** 0.5"
   ]
  },
  {
   "cell_type": "code",
   "execution_count": 45,
   "metadata": {},
   "outputs": [
    {
     "data": {
      "text/plain": [
       "0.5"
      ]
     },
     "execution_count": 45,
     "metadata": {},
     "output_type": "execute_result"
    }
   ],
   "source": [
    "# Números podem ser elevados a expoentes negativos\n",
    "2 ** (-1)"
   ]
  },
  {
   "cell_type": "code",
   "execution_count": 47,
   "metadata": {},
   "outputs": [
    {
     "data": {
      "text/plain": [
       "0.25"
      ]
     },
     "execution_count": 47,
     "metadata": {},
     "output_type": "execute_result"
    }
   ],
   "source": [
    "# Elevar um número a uma potência negativa é o mesmo que dividir 1 pelo número\n",
    "# elevado à potência positiva. Portanto, 2 ** -1 é igual a 1 / (2 ** 1), que é\n",
    "# igual a 1/2 ou 0,5. Da mesma forma, 2 ** -2 é igual a 1 / (2 ** 2), que é\n",
    "# igual a 1/4 ou 0,25.\n",
    "2 ** -2"
   ]
  },
  {
   "cell_type": "markdown",
   "metadata": {},
   "source": [
    "### Operador de módulo"
   ]
  },
  {
   "cell_type": "code",
   "execution_count": 49,
   "metadata": {},
   "outputs": [
    {
     "data": {
      "text/plain": [
       "2"
      ]
     },
     "execution_count": 49,
     "metadata": {},
     "output_type": "execute_result"
    }
   ],
   "source": [
    "# O operador de módulo retorna o resto da divisão\n",
    "5 % 3"
   ]
  },
  {
   "cell_type": "code",
   "execution_count": 50,
   "metadata": {},
   "outputs": [
    {
     "data": {
      "text/plain": [
       "6"
      ]
     },
     "execution_count": 50,
     "metadata": {},
     "output_type": "execute_result"
    }
   ],
   "source": [
    "20 % 7"
   ]
  },
  {
   "cell_type": "code",
   "execution_count": 51,
   "metadata": {},
   "outputs": [
    {
     "data": {
      "text/plain": [
       "0"
      ]
     },
     "execution_count": 51,
     "metadata": {},
     "output_type": "execute_result"
    }
   ],
   "source": [
    "16 % 8"
   ]
  },
  {
   "cell_type": "markdown",
   "metadata": {},
   "source": [
    "Um dos usos mais comuns de `%` é determinar se um número é divisível por outro. Por exemplo, um número `n` é par se e somente se `n % 2` for `0`. O que você acha que `1 % 0` retorna?"
   ]
  },
  {
   "cell_type": "code",
   "execution_count": 53,
   "metadata": {},
   "outputs": [
    {
     "ename": "ZeroDivisionError",
     "evalue": "integer division or modulo by zero",
     "output_type": "error",
     "traceback": [
      "\u001b[1;31m---------------------------------------------------------------------------\u001b[0m",
      "\u001b[1;31mZeroDivisionError\u001b[0m                         Traceback (most recent call last)",
      "\u001b[1;32m~\\AppData\\Local\\Temp/ipykernel_33396/3320024167.py\u001b[0m in \u001b[0;36m<module>\u001b[1;34m\u001b[0m\n\u001b[1;32m----> 1\u001b[1;33m \u001b[1;36m1\u001b[0m \u001b[1;33m%\u001b[0m \u001b[1;36m0\u001b[0m\u001b[1;33m\u001b[0m\u001b[1;33m\u001b[0m\u001b[0m\n\u001b[0m",
      "\u001b[1;31mZeroDivisionError\u001b[0m: integer division or modulo by zero"
     ]
    }
   ],
   "source": [
    "1 % 0"
   ]
  },
  {
   "cell_type": "code",
   "execution_count": 54,
   "metadata": {},
   "outputs": [
    {
     "name": "stdout",
     "output_type": "stream",
     "text": [
      "-1\n",
      "1\n",
      "-2\n"
     ]
    }
   ],
   "source": [
    "# As coisas ficam um pouco complicadas quando você usa o operador% com números\n",
    "# negativos:\n",
    "print(5 % -3)\n",
    "print(-5 % 3)\n",
    "print(-5 % -3)"
   ]
  },
  {
   "cell_type": "markdown",
   "metadata": {},
   "source": [
    "Embora potencialmente chocantes à primeira vista, esses resultados são produto\n",
    "de um comportamento bem definido em Python. Para calcular o resto `r` da divisão de um número `x` por um número `y`, Python usa a equação\n",
    "\n",
    "\n",
    "```python\n",
    "r = x - (y * (x // y))\n",
    "```"
   ]
  },
  {
   "cell_type": "markdown",
   "metadata": {},
   "source": []
  }
 ],
 "metadata": {
  "interpreter": {
   "hash": "8ae6e8347844ce31cefbfab1c46c85d6003d3a1108122483edd0f60efc9feef7"
  },
  "kernelspec": {
   "display_name": "Python 3.9.7 64-bit (conda)",
   "name": "python3"
  },
  "language_info": {
   "codemirror_mode": {
    "name": "ipython",
    "version": 3
   },
   "file_extension": ".py",
   "mimetype": "text/x-python",
   "name": "python",
   "nbconvert_exporter": "python",
   "pygments_lexer": "ipython3",
   "version": "3.9.7"
  },
  "orig_nbformat": 4
 },
 "nbformat": 4,
 "nbformat_minor": 2
}
