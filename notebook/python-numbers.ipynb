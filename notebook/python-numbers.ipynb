{
 "cells": [
  {
   "cell_type": "markdown",
   "metadata": {},
   "source": [
    "# Numbers in Python\n",
    "*Computers execute code, but humans read code*\n",
    "\n",
    "[https://realpython.com/python-numbers/](https://realpython.com/python-numbers/)"
   ]
  },
  {
   "cell_type": "markdown",
   "metadata": {},
   "source": [
    "Neste tutorial, você aprenderá como:\n",
    "- Crie números inteiros e de ponto flutuante\n",
    "- Arredonde os números para um determinado número de casas decimais\n",
    "- Formatar e exibir números em strings"
   ]
  },
  {
   "cell_type": "markdown",
   "metadata": {},
   "source": [
    "## Números inteiros e de ponto flutuante"
   ]
  },
  {
   "cell_type": "markdown",
   "metadata": {},
   "source": [
    "### Inteiros"
   ]
  },
  {
   "cell_type": "code",
   "execution_count": 1,
   "metadata": {},
   "outputs": [
    {
     "data": {
      "text/plain": [
       "int"
      ]
     },
     "execution_count": 1,
     "metadata": {},
     "output_type": "execute_result"
    }
   ],
   "source": [
    "# Um inteiro é um número sem casas decimais. Em Python, o inteiro tem a\n",
    "# classe int.\n",
    "type(1)"
   ]
  },
  {
   "cell_type": "code",
   "execution_count": 2,
   "metadata": {},
   "outputs": [
    {
     "data": {
      "text/plain": [
       "25"
      ]
     },
     "execution_count": 2,
     "metadata": {},
     "output_type": "execute_result"
    }
   ],
   "source": [
    "# Um número pode ser atribuído a uma variável.\n",
    "num = 25\n",
    "num"
   ]
  },
  {
   "cell_type": "code",
   "execution_count": 3,
   "metadata": {},
   "outputs": [
    {
     "name": "stdout",
     "output_type": "stream",
     "text": [
      "Valor: 25 | classe: <class 'int'>\n"
     ]
    }
   ],
   "source": [
    "# Para converter uma string em um número, usamos o método int().\n",
    "num = int(\"25\")\n",
    "print(f\"Valor: {num} | classe: {type(num)}\")"
   ]
  },
  {
   "cell_type": "code",
   "execution_count": 4,
   "metadata": {},
   "outputs": [
    {
     "name": "stdout",
     "output_type": "stream",
     "text": [
      "1000000 == 1_000_000 ? True\n"
     ]
    }
   ],
   "source": [
    "# Podemos usar o underscore como separador de milhar.\n",
    "num_sem_separador = 1000000\n",
    "num_com_separador = 1_000_000\n",
    "\n",
    "print(f\"1000000 == 1_000_000 ? {num_sem_separador == num_com_separador}\")"
   ]
  },
  {
   "cell_type": "code",
   "execution_count": 5,
   "metadata": {},
   "outputs": [
    {
     "name": "stdout",
     "output_type": "stream",
     "text": [
      "99999999999999999999999999999999999999999999999999999999999999999999999999999999999999999999999999999999999999999999999999999999999999999999999999999999999999999999999999999999999999999999999999999999999999999999999999999999999999999999999999999999999999999999999999999999999999999999999999999999999999999999999999999999999999999999999999999999999999999999999999999999999999999999999999999999999999999999999999999999999999999999999999999999999999999999999999999999999999999999999999999999999999999999999999999999999999999999999999999999999999999999999999999999999999999999999999999999999999999999999999999999999999999999999999999999999999999999999999999999999999999999999999999999999999999999999999999999999999999999999999999999999999999999999999999999999999999999999999999999999999999999999999999999999999999999999999999999999999999999999999999999999999999999999999999999999999999999999999999999999999999999999999999999999999999999999999999999999999999999999999999999999999999999999999999999999999999999999999999999999999999999999999999999999999999999999999999999999999999999999999999999999999999999999999999999999999999999999999999999999999999999999999999999999999999999999999999999999999999999999999999999999999999999999999999999999999999999999999999999999999999999999999999999999999999999999999999999999999999999999999999999999999999999999999999999999999999999999999999999999999999999999999999999999999999999999999999999999999999999999999999999999999999999\n",
      "\n",
      "100000000000000000000000000000000000000000000000000000000000000000000000000000000000000000000000000000000000000000000000000000000000000000000000000000000000000000000000000000000000000000000000000000000000000000000000000000000000000000000000000000000000000000000000000000000000000000000000000000000000000000000000000000000000000000000000000000000000000000000000000000000000000000000000000000000000000000000000000000000000000000000000000000000000000000000000000000000000000000000000000000000000000000000000000000000000000000000000000000000000000000000000000000000000000000000000000000000000000000000000000000000000000000000000000000000000000000000000000000000000000000000000000000000000000000000000000000000000000000000000000000000000000000000000000000000000000000000000000000000000000000000000000000000000000000000000000000000000000000000000000000000000000000000000000000000000000000000000000000000000000000000000000000000000000000000000000000000000000000000000000000000000000000000000000000000000000000000000000000000000000000000000000000000000000000000000000000000000000000000000000000000000000000000000000000000000000000000000000000000000000000000000000000000000000000000000000000000000000000000000000000000000000000000000000000000000000000000000000000000000000000000000000000000000000000000000000000000000000000000000000000000000000000000000000000000000000000000000000000000000000000000000000000000000000000000000000000000000000000000000000000000000000000000\n"
     ]
    }
   ],
   "source": [
    "# Python pode ter números inteiro indecentemente grandes\n",
    "num_grande_pra_carai = int(\n",
    "    \"9999999999999999999999999999999999999999999999999999999999999999999999999\"\n",
    "    \"9999999999999999999999999999999999999999999999999999999999999999999999999\"\n",
    "    \"9999999999999999999999999999999999999999999999999999999999999999999999999\"\n",
    "    \"9999999999999999999999999999999999999999999999999999999999999999999999999\"\n",
    "    \"9999999999999999999999999999999999999999999999999999999999999999999999999\"\n",
    "    \"9999999999999999999999999999999999999999999999999999999999999999999999999\"\n",
    "    \"9999999999999999999999999999999999999999999999999999999999999999999999999\"\n",
    "    \"9999999999999999999999999999999999999999999999999999999999999999999999999\"\n",
    "    \"9999999999999999999999999999999999999999999999999999999999999999999999999\"\n",
    "    \"9999999999999999999999999999999999999999999999999999999999999999999999999\"\n",
    "    \"9999999999999999999999999999999999999999999999999999999999999999999999999\"\n",
    "    \"9999999999999999999999999999999999999999999999999999999999999999999999999\"\n",
    "    \"9999999999999999999999999999999999999999999999999999999999999999999999999\"\n",
    "    \"9999999999999999999999999999999999999999999999999999999999999999999999999\"\n",
    "    \"9999999999999999999999999999999999999999999999999999999999999999999999999\"\n",
    "    \"9999999999999999999999999999999999999999999999999999999999999999999999999\"\n",
    "    \"9999999999999999999999999999999999999999999999999999999999999999999999999\"\n",
    "    \"9999999999999999999999999999999999999999999999999999999999999999999999999\"\n",
    "    \"9999999999999999999999999999999999999999999999999999999999999999999999999\"\n",
    "    \"9999999999999999999999999999999999999999999999999999999999999999999999999\"\n",
    ")\n",
    "\n",
    "print(num_grande_pra_carai)\n",
    "\n",
    "num_grande_pra_carai = num_grande_pra_carai + 1\n",
    "\n",
    "print()\n",
    "print(num_grande_pra_carai)"
   ]
  },
  {
   "cell_type": "code",
   "execution_count": null,
   "metadata": {},
   "outputs": [],
   "source": []
  },
  {
   "cell_type": "markdown",
   "metadata": {},
   "source": [
    "### Números de ponto flutuante"
   ]
  },
  {
   "cell_type": "code",
   "execution_count": 6,
   "metadata": {},
   "outputs": [
    {
     "data": {
      "text/plain": [
       "float"
      ]
     },
     "execution_count": 6,
     "metadata": {},
     "output_type": "execute_result"
    }
   ],
   "source": [
    "# Números de ponto flutuante são números com casas decimais.\n",
    "type(1.0)"
   ]
  },
  {
   "cell_type": "code",
   "execution_count": 7,
   "metadata": {},
   "outputs": [
    {
     "name": "stdout",
     "output_type": "stream",
     "text": [
      "Valor: 1000000.0 | classe: <class 'float'>\n",
      "Valor: 1000000.0 | classe: <class 'float'>\n",
      "Valor: 1000000.0 | classe: <class 'float'>\n"
     ]
    }
   ],
   "source": [
    "# Há três maneiras de criar um número de ponto flutuante:\n",
    "\n",
    "# Declarar o literal normalmente\n",
    "numero_normal = 1000000.0\n",
    "print(f\"Valor: {numero_normal} | classe: {type(numero_normal)}\")\n",
    "\n",
    "# Declarar o literal com separador de milhar\n",
    "numero_com_separador = 1_000_000.0\n",
    "print(f\"Valor: {numero_com_separador} | classe: {type(numero_com_separador)}\")\n",
    "\n",
    "# usar a notação E\n",
    "numero_com_notacao_e = 1e6\n",
    "print(f\"Valor: {numero_com_notacao_e} | classe: {type(numero_com_notacao_e)}\")\n"
   ]
  },
  {
   "cell_type": "code",
   "execution_count": 8,
   "metadata": {},
   "outputs": [
    {
     "data": {
      "text/plain": [
       "2e+17"
      ]
     },
     "execution_count": 8,
     "metadata": {},
     "output_type": "execute_result"
    }
   ],
   "source": [
    "# Números grandes podem ser exibidos com a notação E. O + indica que o expoente\n",
    "# é positivo. No caso, o expoente é de 17.\n",
    "200000000000000000.0"
   ]
  },
  {
   "cell_type": "code",
   "execution_count": 9,
   "metadata": {},
   "outputs": [
    {
     "data": {
      "text/plain": [
       "4e-13"
      ]
     },
     "execution_count": 9,
     "metadata": {},
     "output_type": "execute_result"
    }
   ],
   "source": [
    "# Caso o expoente seja negativo, o número é menor que 1\n",
    "0.0000000000004\n"
   ]
  },
  {
   "cell_type": "code",
   "execution_count": 10,
   "metadata": {},
   "outputs": [
    {
     "data": {
      "text/plain": [
       "inf"
      ]
     },
     "execution_count": 10,
     "metadata": {},
     "output_type": "execute_result"
    }
   ],
   "source": [
    "# Diferente dos inteiros, os floats tem um tamanho máximo, que é dependente do\n",
    "# sistema, e varia em torno de 2x10^400.\n",
    "# Curiosidade: esse número é maior que o número de átomos no universo.\n",
    "a = 2e400\n",
    "a"
   ]
  },
  {
   "cell_type": "code",
   "execution_count": 11,
   "metadata": {},
   "outputs": [
    {
     "data": {
      "text/plain": [
       "float"
      ]
     },
     "execution_count": 11,
     "metadata": {},
     "output_type": "execute_result"
    }
   ],
   "source": [
    "# Quando você atinge o valor máximo, o número é truncado para o valor inf\n",
    "# (infinito).O tipo de inf é float\n",
    "type(a)"
   ]
  },
  {
   "cell_type": "code",
   "execution_count": 12,
   "metadata": {},
   "outputs": [
    {
     "data": {
      "text/plain": [
       "inf"
      ]
     },
     "execution_count": 12,
     "metadata": {},
     "output_type": "execute_result"
    }
   ],
   "source": [
    "# Você pode obter o valor inf com a função float(\"inf\"). Assim, obtemos o\n",
    "# maior valor para float python em uma dada plataforma\n",
    "float(\"inf\")"
   ]
  },
  {
   "cell_type": "code",
   "execution_count": 13,
   "metadata": {},
   "outputs": [
    {
     "name": "stdout",
     "output_type": "stream",
     "text": [
      "Soma: inf | Classe: <class 'float'>\n",
      "Subtração: inf | Classe: <class 'float'>\n"
     ]
    }
   ],
   "source": [
    "# Qualquer operação com inf retorna um inf\n",
    "soma = float(\"inf\") + 10000\n",
    "print(f\"Soma: {soma} | Classe: {type(soma)}\")\n",
    "\n",
    "subtracao = float(\"inf\") - 10000\n",
    "print(f\"Subtração: {subtracao} | Classe: {type(subtracao)}\")\n"
   ]
  },
  {
   "cell_type": "code",
   "execution_count": 14,
   "metadata": {},
   "outputs": [
    {
     "data": {
      "text/plain": [
       "-inf"
      ]
     },
     "execution_count": 14,
     "metadata": {},
     "output_type": "execute_result"
    }
   ],
   "source": [
    "# Se inf é o maior valor, -inf nidica o menor valor\n",
    "-2e400"
   ]
  },
  {
   "cell_type": "markdown",
   "metadata": {},
   "source": [
    "### Exercícios"
   ]
  },
  {
   "cell_type": "markdown",
   "metadata": {},
   "source": [
    "Escreva um programa que crie duas variáveis, `num1` e `num2`. Tanto `num1` quanto `num2` devem ser atribuídos ao literal inteiro `25000000`, um escrito com sublinhados e outro sem. Imprima `num1` e `num2` em duas linhas separadas."
   ]
  },
  {
   "cell_type": "code",
   "execution_count": 15,
   "metadata": {},
   "outputs": [
    {
     "name": "stdout",
     "output_type": "stream",
     "text": [
      "num1 == 25000000\n",
      "num2 == 25000000\n"
     ]
    }
   ],
   "source": [
    "num1 = 25000000\n",
    "num2 = 25_000_000\n",
    "print(f\"num1 == {num1}\")\n",
    "print(f\"num2 == {num2}\")"
   ]
  },
  {
   "cell_type": "markdown",
   "metadata": {},
   "source": [
    "## Operadores aritméticos e expressões"
   ]
  },
  {
   "cell_type": "markdown",
   "metadata": {},
   "source": [
    "### Adição"
   ]
  },
  {
   "cell_type": "code",
   "execution_count": 16,
   "metadata": {},
   "outputs": [
    {
     "data": {
      "text/plain": [
       "3"
      ]
     },
     "execution_count": 16,
     "metadata": {},
     "output_type": "execute_result"
    }
   ],
   "source": [
    "# Adição é feita com o operador +\n",
    "1 + 2"
   ]
  },
  {
   "cell_type": "code",
   "execution_count": 17,
   "metadata": {},
   "outputs": [
    {
     "data": {
      "text/plain": [
       "6.0"
      ]
     },
     "execution_count": 17,
     "metadata": {},
     "output_type": "execute_result"
    }
   ],
   "source": [
    "# Os operandos não precisam ser do mesmo tipo\n",
    "2.0 + 4"
   ]
  },
  {
   "cell_type": "markdown",
   "metadata": {},
   "source": [
    "### Subtração"
   ]
  },
  {
   "cell_type": "code",
   "execution_count": 18,
   "metadata": {},
   "outputs": [
    {
     "data": {
      "text/plain": [
       "2"
      ]
     },
     "execution_count": 18,
     "metadata": {},
     "output_type": "execute_result"
    }
   ],
   "source": [
    "# A subtração é feita com o operador -\n",
    "4 - 2"
   ]
  },
  {
   "cell_type": "code",
   "execution_count": 19,
   "metadata": {},
   "outputs": [
    {
     "data": {
      "text/plain": [
       "2.0"
      ]
     },
     "execution_count": 19,
     "metadata": {},
     "output_type": "execute_result"
    }
   ],
   "source": [
    "5.0 - 3"
   ]
  },
  {
   "cell_type": "code",
   "execution_count": 20,
   "metadata": {},
   "outputs": [
    {
     "data": {
      "text/plain": [
       "-4"
      ]
     },
     "execution_count": 20,
     "metadata": {},
     "output_type": "execute_result"
    }
   ],
   "source": [
    "# O operador de - também é usado para denotar números negativos\n",
    "-4"
   ]
  },
  {
   "cell_type": "markdown",
   "metadata": {},
   "source": [
    "Você pode subtrair um número negativo de outro número mas, como você pode\n",
    "ver abaixo, às vezes pode parecer confuso:\n",
    "```python\n",
    "print(10--5)\n",
    "print(10 --5)\n",
    "print(10- -5)\n",
    "print(10-- 5)\n",
    "print(10- - 5)\n",
    "print(10 -- 5)\n",
    "print(10 - -5)\n",
    "print(10 - - 5)\n",
    "```"
   ]
  },
  {
   "cell_type": "code",
   "execution_count": 21,
   "metadata": {},
   "outputs": [
    {
     "name": "stdout",
     "output_type": "stream",
     "text": [
      "15\n"
     ]
    }
   ],
   "source": [
    "# Para evitar confusão, você pode usar os parênteses para delimitar o número\n",
    "print(10 - (-5))"
   ]
  },
  {
   "cell_type": "markdown",
   "metadata": {},
   "source": [
    "### Multiplicação"
   ]
  },
  {
   "cell_type": "code",
   "execution_count": 22,
   "metadata": {},
   "outputs": [
    {
     "data": {
      "text/plain": [
       "20"
      ]
     },
     "execution_count": 22,
     "metadata": {},
     "output_type": "execute_result"
    }
   ],
   "source": [
    "# A multiplicação é feita com o operador *\n",
    "4 * 5"
   ]
  },
  {
   "cell_type": "code",
   "execution_count": 23,
   "metadata": {},
   "outputs": [
    {
     "data": {
      "text/plain": [
       "160.0"
      ]
     },
     "execution_count": 23,
     "metadata": {},
     "output_type": "execute_result"
    }
   ],
   "source": [
    "# A multiplicação segue a mesma regra de conversão de tipos que os operadores\n",
    "# de soma e de subtração\n",
    "20.0 * 8"
   ]
  },
  {
   "cell_type": "markdown",
   "metadata": {},
   "source": [
    "### Divisão"
   ]
  },
  {
   "cell_type": "code",
   "execution_count": 24,
   "metadata": {},
   "outputs": [
    {
     "data": {
      "text/plain": [
       "3.0"
      ]
     },
     "execution_count": 24,
     "metadata": {},
     "output_type": "execute_result"
    }
   ],
   "source": [
    "#  A divisão é feita com o operador /\n",
    "9 / 3"
   ]
  },
  {
   "cell_type": "code",
   "execution_count": 25,
   "metadata": {},
   "outputs": [
    {
     "data": {
      "text/plain": [
       "3"
      ]
     },
     "execution_count": 25,
     "metadata": {},
     "output_type": "execute_result"
    }
   ],
   "source": [
    "# Diferente da adição, multiplicação e divisão, a divisão sempre retorna um\n",
    "# número de ponto flutuante. Se você quiser um resultado inteiro, é preciso\n",
    "# usar a conversão int()\n",
    "int(9 / 3)\n"
   ]
  },
  {
   "cell_type": "code",
   "execution_count": 26,
   "metadata": {},
   "outputs": [
    {
     "data": {
      "text/plain": [
       "2"
      ]
     },
     "execution_count": 26,
     "metadata": {},
     "output_type": "execute_result"
    }
   ],
   "source": [
    "# Ao converter um número pra int, o python descarta a parte fracionária\n",
    "int(5.0 / 2)"
   ]
  },
  {
   "cell_type": "markdown",
   "metadata": {},
   "source": [
    "### Divisão inteira"
   ]
  },
  {
   "cell_type": "code",
   "execution_count": 27,
   "metadata": {},
   "outputs": [
    {
     "name": "stdout",
     "output_type": "stream",
     "text": [
      "3\n",
      "2.0\n",
      "-2\n"
     ]
    }
   ],
   "source": [
    "# Sew o que você quer é dividir um número e obter a parte inteira da divisão, o\n",
    "# operador // deve ser usado\n",
    "a = 9 // 3\n",
    "print(a)\n",
    "\n",
    "b = 5.0 // 2\n",
    "print(b)\n",
    "\n",
    "c = -3 // 2\n",
    "print(c)\n"
   ]
  },
  {
   "cell_type": "code",
   "execution_count": 28,
   "metadata": {},
   "outputs": [
    {
     "name": "stderr",
     "output_type": "stream",
     "text": [
      "Traceback (most recent call last):\n",
      "  File \"C:\\Users\\josen\\AppData\\Local\\Temp/ipykernel_24748/2061544692.py\", line 6, in <module>\n",
      "    1 / 0\n",
      "ZeroDivisionError: division by zero\n"
     ]
    }
   ],
   "source": [
    "# Atenção: a divisão por zero lança uma exceção ZeroDivisionError\n",
    "import traceback # noqa: E402\n",
    "\n",
    "\n",
    "try:\n",
    "    1 / 0\n",
    "except ZeroDivisionError:\n",
    "    traceback.print_exc()\n"
   ]
  },
  {
   "cell_type": "markdown",
   "metadata": {},
   "source": [
    "### Exponenciação"
   ]
  },
  {
   "cell_type": "code",
   "execution_count": 29,
   "metadata": {},
   "outputs": [
    {
     "data": {
      "text/plain": [
       "9"
      ]
     },
     "execution_count": 29,
     "metadata": {},
     "output_type": "execute_result"
    }
   ],
   "source": [
    "# A exponenciação é feita com o operador **\n",
    "3 ** 2"
   ]
  },
  {
   "cell_type": "code",
   "execution_count": 30,
   "metadata": {},
   "outputs": [
    {
     "data": {
      "text/plain": [
       "5.196152422706632"
      ]
     },
     "execution_count": 30,
     "metadata": {},
     "output_type": "execute_result"
    }
   ],
   "source": [
    "# Expoentes não precisam ser inteiros. Eles podem ser de ponto flutuante\n",
    "3 ** 1.5"
   ]
  },
  {
   "cell_type": "code",
   "execution_count": 31,
   "metadata": {},
   "outputs": [
    {
     "data": {
      "text/plain": [
       "3.0"
      ]
     },
     "execution_count": 31,
     "metadata": {},
     "output_type": "execute_result"
    }
   ],
   "source": [
    "9 ** 0.5"
   ]
  },
  {
   "cell_type": "code",
   "execution_count": 32,
   "metadata": {},
   "outputs": [
    {
     "data": {
      "text/plain": [
       "0.5"
      ]
     },
     "execution_count": 32,
     "metadata": {},
     "output_type": "execute_result"
    }
   ],
   "source": [
    "# Números podem ser elevados a expoentes negativos\n",
    "2 ** (-1)"
   ]
  },
  {
   "cell_type": "code",
   "execution_count": 33,
   "metadata": {},
   "outputs": [
    {
     "data": {
      "text/plain": [
       "0.25"
      ]
     },
     "execution_count": 33,
     "metadata": {},
     "output_type": "execute_result"
    }
   ],
   "source": [
    "# Elevar um número a uma potência negativa é o mesmo que dividir 1 pelo número\n",
    "# elevado à potência positiva. Portanto, 2 ** -1 é igual a 1 / (2 ** 1), que é\n",
    "# igual a 1/2 ou 0,5. Da mesma forma, 2 ** -2 é igual a 1 / (2 ** 2), que é\n",
    "# igual a 1/4 ou 0,25.\n",
    "2 ** -2"
   ]
  },
  {
   "cell_type": "markdown",
   "metadata": {},
   "source": [
    "### Operador de módulo"
   ]
  },
  {
   "cell_type": "code",
   "execution_count": 34,
   "metadata": {},
   "outputs": [
    {
     "data": {
      "text/plain": [
       "2"
      ]
     },
     "execution_count": 34,
     "metadata": {},
     "output_type": "execute_result"
    }
   ],
   "source": [
    "# O operador de módulo retorna o resto da divisão\n",
    "5 % 3"
   ]
  },
  {
   "cell_type": "code",
   "execution_count": 35,
   "metadata": {},
   "outputs": [
    {
     "data": {
      "text/plain": [
       "6"
      ]
     },
     "execution_count": 35,
     "metadata": {},
     "output_type": "execute_result"
    }
   ],
   "source": [
    "20 % 7"
   ]
  },
  {
   "cell_type": "code",
   "execution_count": 36,
   "metadata": {},
   "outputs": [
    {
     "data": {
      "text/plain": [
       "0"
      ]
     },
     "execution_count": 36,
     "metadata": {},
     "output_type": "execute_result"
    }
   ],
   "source": [
    "16 % 8"
   ]
  },
  {
   "cell_type": "markdown",
   "metadata": {},
   "source": [
    "Um dos usos mais comuns de `%` é determinar se um número é divisível por outro. Por exemplo, um número `n` é par se e somente se `n % 2` for `0`. O que você acha que `1 % 0` retorna?"
   ]
  },
  {
   "cell_type": "code",
   "execution_count": 37,
   "metadata": {},
   "outputs": [
    {
     "name": "stderr",
     "output_type": "stream",
     "text": [
      "Traceback (most recent call last):\n",
      "  File \"C:\\Users\\josen\\AppData\\Local\\Temp/ipykernel_24748/839162084.py\", line 5, in <module>\n",
      "    1 % 0\n",
      "ZeroDivisionError: integer division or modulo by zero\n"
     ]
    }
   ],
   "source": [
    "import traceback # noqa: E402\n",
    "\n",
    "\n",
    "try:\n",
    "    1 % 0\n",
    "except ZeroDivisionError:\n",
    "    traceback.print_exc()"
   ]
  },
  {
   "cell_type": "code",
   "execution_count": 38,
   "metadata": {},
   "outputs": [
    {
     "name": "stdout",
     "output_type": "stream",
     "text": [
      "-1\n",
      "1\n",
      "-2\n"
     ]
    }
   ],
   "source": [
    "# As coisas ficam um pouco complicadas quando você usa o operador% com números\n",
    "# negativos:\n",
    "print(5 % -3)\n",
    "print(-5 % 3)\n",
    "print(-5 % -3)"
   ]
  },
  {
   "cell_type": "markdown",
   "metadata": {},
   "source": [
    "Embora potencialmente chocantes à primeira vista, esses resultados são produto\n",
    "de um comportamento bem definido em Python. Para calcular o resto `r` da divisão de um número `x` por um número `y`, Python usa a equação\n",
    "\n",
    "\n",
    "```python\n",
    "r = x - (y * (x // y))\n",
    "```"
   ]
  },
  {
   "cell_type": "markdown",
   "metadata": {},
   "source": [
    "## Expressões aritméticas"
   ]
  },
  {
   "cell_type": "code",
   "execution_count": 39,
   "metadata": {},
   "outputs": [
    {
     "name": "stdout",
     "output_type": "stream",
     "text": [
      "5\n",
      "10.0\n",
      "-3\n"
     ]
    }
   ],
   "source": [
    "# Uma expressão é uma combinação de números, operadores e parênteses que o\n",
    "# Python pode calcular ou avaliar para retornar um valor.\n",
    "print(2*3 - 1)\n",
    "print(4/2 + 2**3)\n",
    "print(-1 + (-3*2 + 4))"
   ]
  },
  {
   "cell_type": "markdown",
   "metadata": {},
   "source": [
    "As regras para avaliar expressões são as mesmas da aritmética cotidiana. Na escola, você provavelmente aprendeu essas regras com o nome de **ordem de precendência de operadores**.\n",
    "\n",
    "| Preceência de operadores (do maior para o menor) |\n",
    "| :-- |\n",
    "| ** |\n",
    "| * / % // |\n",
    "| + - |\n",
    "| <= < > >= |\n",
    "| == != |\n",
    "| = %= /= //= -= += = *= |\n",
    "| not or and |"
   ]
  },
  {
   "cell_type": "markdown",
   "metadata": {},
   "source": [
    "No caso de expressões complexas sem parênteses, a PEP8 diz o seguinte:\n",
    "\n",
    "> *If operators with different priorities are used, consider adding whitespace\n",
    "> around the operators with the lowest priority(ies). Use your own judgment;\n",
    "> however, never use more than one space, and always have the same amount of\n",
    "> whitespace on both sides of a binary operator.*\n",
    ">\n",
    "> -- <cite>([Source](https://pep8.org/#other-recommendations))</cite>\n",
    "\n",
    "Outra boa prática é usar parênteses para indicar a ordem em que as operações devem ser realizadas, mesmo se os parênteses não forem necessários. Por exemplo, `(2 * 3) - 1` é potencialmente mais claro do que `2 * 3 - 1`."
   ]
  },
  {
   "cell_type": "markdown",
   "metadata": {},
   "source": [
    "### Faça Python mentir para você"
   ]
  },
  {
   "cell_type": "code",
   "execution_count": 40,
   "metadata": {},
   "outputs": [
    {
     "data": {
      "text/plain": [
       "0.30000000000000004"
      ]
     },
     "execution_count": 40,
     "metadata": {},
     "output_type": "execute_result"
    }
   ],
   "source": [
    "# Qual é o resultado da expressão abaixo? 0.3?\n",
    "0.1 + 0.2"
   ]
  },
  {
   "cell_type": "markdown",
   "metadata": {},
   "source": [
    "Pois é... Isso não é um bug do Python. Isso é uma limitação do tipo float, devido à forma como ele é armazenado nos computadores. Outras linguagens tem o mesmo problema. Para mais informações, veja [https://docs.python.org/3/tutorial/floatingpoint.html](https://docs.python.org/3/tutorial/floatingpoint.html).\n",
    "\n",
    "No Python, os números são guardados como frações de base 2. Dessa forma, algumas vezes o número não representa uma fração exata. Assim, o que guardamos é uma APROXIMAÇÂO do número.\n",
    "\n",
    "Ao somarmos números de ponto flutuante, somamos as aproximações desses números. Por isso a soma pode não ter um resultado exato.\n",
    "\n",
    "Sabendo disso, temos que levar essa informação em consideração ao trabalhar com floats. Se o programa não exige uma precisão absoluta, podemos trabalhar com float, gerenciando o erro de aproximação.\n",
    "\n",
    "Se for necessário precisão absoluta, podemos resolver isso usando o módulo `decimal`. Para mais informaões sobre o módulo `decimal`, acesse [https://docs.python.org/3/library/decimal.html](https://docs.python.org/3/library/decimal.html).\n",
    "\n"
   ]
  },
  {
   "cell_type": "code",
   "execution_count": 41,
   "metadata": {},
   "outputs": [
    {
     "name": "stdout",
     "output_type": "stream",
     "text": [
      "0.100000000000000005551115123125782702118158340454101562500000\n"
     ]
    }
   ],
   "source": [
    "print(f\"{0.1:.60f}\")"
   ]
  },
  {
   "cell_type": "markdown",
   "metadata": {},
   "source": [
    "## Funções matemáticas e métodos da classe Number"
   ]
  },
  {
   "cell_type": "markdown",
   "metadata": {},
   "source": [
    "### Arredondamento com `round()`"
   ]
  },
  {
   "cell_type": "code",
   "execution_count": 42,
   "metadata": {},
   "outputs": [
    {
     "name": "stdout",
     "output_type": "stream",
     "text": [
      "2\n",
      "3\n"
     ]
    }
   ],
   "source": [
    "# Você pode usar a função round() para arredondar um número para um número\n",
    "# intero mais próximo\n",
    "a = round(2.3)\n",
    "print(a)\n",
    "\n",
    "b = round(2.7)\n",
    "print(b)"
   ]
  },
  {
   "cell_type": "code",
   "execution_count": 43,
   "metadata": {},
   "outputs": [
    {
     "name": "stdout",
     "output_type": "stream",
     "text": [
      "2\n",
      "4\n"
     ]
    }
   ],
   "source": [
    "# Porém, round() apresenta um comportamento inesperado, pra maioria das\n",
    "# pessoas, em números terminados em 0.5\n",
    "a = round(2.5)\n",
    "print(a)\n",
    "\n",
    "b = round(3.5)\n",
    "print(b)"
   ]
  },
  {
   "cell_type": "markdown",
   "metadata": {},
   "source": [
    "`2.5` é arredondado para `2` e `3.5` é arredondado para `4`. A maioria das pessoas espera que um número que termina em `0.5` seja arredondado para cima. Então vamos entender o que está acontecendo.\n",
    "\n",
    "O Python 3 arredonda os números de acordo com uma estratégia chamada [**Arredonde os Empates para Par**](https://en.wikipedia.org/wiki/IEEE_754#Roundings_to_nearest). Um empate é qualquer número cujo último dígito seja cinco. `2.5` e `3.1415` são empates, mas `1.37` não é.\n",
    "\n",
    "Ao arredondar os empates para o par, primeiro você olha para o dígito uma casa decimal à esquerda do último dígito do empate. Se esse dígito for par, você arredondará para baixo. Se o dígito for ímpar, você arredondará para cima. É por isso que `2.5` arredondados para `2` e `3.5` arredondados para `4`.\n",
    "\n",
    "Essa é a estratégia recomendada pela [IEEE](https://en.wikipedia.org/wiki/IEEE_754#Roundings_to_nearest). Foi publicada em 1985 e até hoje é a estratégia mais usada."
   ]
  },
  {
   "cell_type": "code",
   "execution_count": 44,
   "metadata": {},
   "outputs": [
    {
     "name": "stdout",
     "output_type": "stream",
     "text": [
      "3.142\n",
      "2.72\n"
     ]
    }
   ],
   "source": [
    "# Você pode arredondar um número para um determinado número de casas decimais\n",
    "# passando um segundo argumento (INTEIRO!!) para round ():\n",
    "a = round(3.14159, 3)\n",
    "print(a)\n",
    "\n",
    "b = round(2.71828, 2)\n",
    "print(b)"
   ]
  },
  {
   "cell_type": "code",
   "execution_count": 45,
   "metadata": {},
   "outputs": [
    {
     "data": {
      "text/plain": [
       "2.67"
      ]
     },
     "execution_count": 45,
     "metadata": {},
     "output_type": "execute_result"
    }
   ],
   "source": [
    "# Algumas vezes, o Python não consegue arredondar da maneira que você espera.\n",
    "# No caso abaixo, por exemplo, o valor esperado seria 2.68. Porém...\n",
    "round(2.675, 2)\n"
   ]
  },
  {
   "cell_type": "markdown",
   "metadata": {},
   "source": [
    "O que acontece aqui não é um bug no Python, mas um erro de aproximação de ponto flutuante que o Python não consegue resolver. Esse erro está presente na maioria das linguagens que lidam com ponto flutuante. Talvez, em todas. Na maioria dos casos, a função `round()` é perfeitamente útil."
   ]
  },
  {
   "cell_type": "markdown",
   "metadata": {},
   "source": [
    "### Encontre o valor absoluto com `abs()`"
   ]
  },
  {
   "cell_type": "markdown",
   "metadata": {},
   "source": [
    "O valor absoluto de um número `n` é apenas `n` se `n` for positivo e `-n` se `n` for negativo. Por exemplo, o valor absoluto de `3` é `3`, enquanto o valor absoluto de `-5` é `5`.\n",
    "\n",
    "Para obter o valor absoluto de um número em Python, você usa a função `abs()`:\n",
    "\n"
   ]
  },
  {
   "cell_type": "code",
   "execution_count": 46,
   "metadata": {},
   "outputs": [
    {
     "name": "stdout",
     "output_type": "stream",
     "text": [
      "3\n",
      "5.0\n"
     ]
    }
   ],
   "source": [
    "a = abs(3)\n",
    "print(a)\n",
    "\n",
    "b = abs(-5.0)\n",
    "print(b)"
   ]
  },
  {
   "cell_type": "markdown",
   "metadata": {},
   "source": [
    "`abs()` sempre retorna um número positivo do mesmo tipo que seu argumento. Ou seja, o valor absoluto de um número inteiro é sempre um número inteiro positivo e o valor absoluto de um número flutuante é sempre um número flutuante positivo."
   ]
  },
  {
   "cell_type": "markdown",
   "metadata": {},
   "source": [
    "### Eleve a uma potência com `pow()`"
   ]
  },
  {
   "cell_type": "markdown",
   "metadata": {},
   "source": [
    "Anteriormente, você aprendeu como elevar um número a uma potência usando o operador de potenciação `**`. Você também pode usar `pow()` para obter o mesmo resultado.\n",
    "\n",
    "`pow()` leva dois argumentos. O primeiro argumento é a base, ou seja, o número a ser elevado a uma potência. O segundo argumento é o expoente, ou seja, a potência à qual a base deve ser elevada.\n",
    "\n",
    "Por exemplo, o seguinte usa `pow()` para elevar `2` ao expoente `3`:"
   ]
  },
  {
   "cell_type": "code",
   "execution_count": 47,
   "metadata": {},
   "outputs": [
    {
     "data": {
      "text/plain": [
       "8"
      ]
     },
     "execution_count": 47,
     "metadata": {},
     "output_type": "execute_result"
    }
   ],
   "source": [
    "pow(2, 3)"
   ]
  },
  {
   "cell_type": "code",
   "execution_count": 48,
   "metadata": {},
   "outputs": [
    {
     "data": {
      "text/plain": [
       "0.125"
      ]
     },
     "execution_count": 48,
     "metadata": {},
     "output_type": "execute_result"
    }
   ],
   "source": [
    "# O expoente também pode ser negativo\n",
    "pow(2, -3)"
   ]
  },
  {
   "cell_type": "markdown",
   "metadata": {},
   "source": [
    "Então, qual é a diferença entre **e pow()?"
   ]
  },
  {
   "cell_type": "markdown",
   "metadata": {},
   "source": [
    "A função `pow()` aceita um terceiro argumento, opcional, que calcula o primeiro número elevado à potência do segundo número e, a seguir, obtém o módulo em relação ao terceiro número. Em outras palavras, `pow(x, y, z)` é equivalente a `(x ** y) % z`.\n",
    "\n",
    "Aqui está um exemplo em que `x = 2, y = 3 e z = 2`:"
   ]
  },
  {
   "cell_type": "code",
   "execution_count": 49,
   "metadata": {},
   "outputs": [
    {
     "data": {
      "text/plain": [
       "0"
      ]
     },
     "execution_count": 49,
     "metadata": {},
     "output_type": "execute_result"
    }
   ],
   "source": [
    "pow(2, 3, 2)"
   ]
  },
  {
   "cell_type": "markdown",
   "metadata": {},
   "source": [
    "Então a pergunta é: Qual usar?\n",
    "\n",
    "No que diz respeito a desempenho, na maioria das operações, o operador `**` leva bastante vantagem. Todavia, as operações com `pow()` e com `**` são rápidas o suficiente para que você possa usá-las sem preocupação.\n",
    "\n",
    "Para mais informações, veja:\n",
    "\n",
    "- [https://stackoverflow.com/questions/20969773/exponentials-in-python-xy-vs-math-powx-y](https://stackoverflow.com/questions/20969773/exponentials-in-python-xy-vs-math-powx-y)\n",
    "- [https://stackoverflow.com/questions/10282674/difference-between-the-built-in-pow-and-math-pow-for-floats-in-python](https://stackoverflow.com/questions/10282674/difference-between-the-built-in-pow-and-math-pow-for-floats-in-python)"
   ]
  },
  {
   "cell_type": "markdown",
   "metadata": {},
   "source": [
    "### Verificando se um Float é um inteiro"
   ]
  },
  {
   "cell_type": "markdown",
   "metadata": {},
   "source": [
    "Em Python, números também possuem métodos (apesar de serem pouco usados). Um método que pode ser útil é o método `is_integer()`, que retorna `True` se o número float for um inteiro (ou seja, se ele não tem parte fracionária) e `False` caso contrário."
   ]
  },
  {
   "cell_type": "code",
   "execution_count": 50,
   "metadata": {},
   "outputs": [
    {
     "name": "stdout",
     "output_type": "stream",
     "text": [
      "False\n",
      "True\n"
     ]
    }
   ],
   "source": [
    "a = 2.5\n",
    "print(a.is_integer())\n",
    "\n",
    "b = 2.0\n",
    "print(b.is_integer())"
   ]
  },
  {
   "cell_type": "markdown",
   "metadata": {},
   "source": [
    "### Exercícios"
   ]
  },
  {
   "cell_type": "code",
   "execution_count": 51,
   "metadata": {},
   "outputs": [
    {
     "name": "stdout",
     "output_type": "stream",
     "text": [
      "345.564487 rounded to 2 decimal places is 345.56\n"
     ]
    }
   ],
   "source": [
    "# Escreva um programa que peça ao usuário para inserir um número e, em\n",
    "# seguida, exiba esse número arredondado para duas casas decimais.\n",
    "\n",
    "number = float(input(\"Enter a number: \"))\n",
    "round_number = round(number, 2)\n",
    "\n",
    "print(f\"{number} rounded to 2 decimal places is {round_number}\")"
   ]
  },
  {
   "cell_type": "markdown",
   "metadata": {},
   "source": [
    "## Imprimindo números com estilo"
   ]
  },
  {
   "cell_type": "markdown",
   "metadata": {},
   "source": [
    "Pra exibir números, em Python, você poderar ter que inserí-los em uma string. Para isso, você pode usaras [f-strings](https://realpython.com/python-f-strings/):"
   ]
  },
  {
   "cell_type": "code",
   "execution_count": 52,
   "metadata": {},
   "outputs": [
    {
     "name": "stdout",
     "output_type": "stream",
     "text": [
      "O número é 2.1\n"
     ]
    }
   ],
   "source": [
    "a = 2.1\n",
    "\n",
    "print(f\"O número é {a}\")"
   ]
  },
  {
   "cell_type": "markdown",
   "metadata": {},
   "source": [
    "Essas chaves suportam uma linguagem de formatação simples que você pode usar para alterar a aparência do valor na string formatada final.\n",
    "\n",
    "Por exemplo, para formatar o valor de `n` no exemplo acima para duas casas decimais, substitua o conteúdo das chaves na f-string  por `{n:.2f}`:"
   ]
  },
  {
   "cell_type": "code",
   "execution_count": 53,
   "metadata": {},
   "outputs": [
    {
     "name": "stdout",
     "output_type": "stream",
     "text": [
      "O valor de n é 7.12\n"
     ]
    }
   ],
   "source": [
    "n = 7.125\n",
    "print(f\"O valor de n é {n:.2f}\")\n"
   ]
  },
  {
   "cell_type": "markdown",
   "metadata": {},
   "source": [
    "Os dois pontos (`:`), após a variável `n`, indica que tudo o que vem depois dela faz parte da especificação de formatação. Neste exemplo, a especificação de formatação é `.2f`.\n",
    "\n",
    "O `.2`, em `.2f`, arredonda o número para duas casas decimais e `f` diz ao Python para exibir o `n` como um **número de ponto fixo**. Isso significa que o número é exibido com exatamente duas casas decimais, mesmo se o número original tiver menos casas decimais.\n",
    "\n",
    "Quando `n = 7.125`, o resultado de `{n:.2f}` é `7.12`. Assim como com round(), Python arredonda empates até mesmo ao formatar números dentro de strings. Portanto, se você substituir `n = 7.125` por `n = 7.126`, o resultado de `{n:.2f}` é `7.13`:"
   ]
  },
  {
   "cell_type": "code",
   "execution_count": 54,
   "metadata": {},
   "outputs": [
    {
     "name": "stdout",
     "output_type": "stream",
     "text": [
      "O valor de n é 7.13\n"
     ]
    }
   ],
   "source": [
    "n = 7.126\n",
    "print(f\"O valor de n é {n:.2f}\")"
   ]
  },
  {
   "cell_type": "markdown",
   "metadata": {},
   "source": [
    "Quando você formata um número como ponto fixo, ele sempre é exibido com o número preciso de casas decimais que você especificar:"
   ]
  },
  {
   "cell_type": "code",
   "execution_count": 55,
   "metadata": {},
   "outputs": [
    {
     "name": "stdout",
     "output_type": "stream",
     "text": [
      "O valor de n é 1.00\n",
      "O valor de n é 1.000\n"
     ]
    }
   ],
   "source": [
    "n = 1\n",
    "print(f\"O valor de n é {n:.2f}\")\n",
    "print(f\"O valor de n é {n:.3f}\")"
   ]
  },
  {
   "cell_type": "markdown",
   "metadata": {},
   "source": [
    "Você pode inserir vírgulas, para agrupar a parte inteira de números grandes, aos milhares, com a opção `,`:"
   ]
  },
  {
   "cell_type": "code",
   "execution_count": 56,
   "metadata": {},
   "outputs": [
    {
     "name": "stdout",
     "output_type": "stream",
     "text": [
      "O valor de n é 1,234,567,890\n"
     ]
    }
   ],
   "source": [
    "n = 1234567890\n",
    "print(f\"O valor de n é {n:,}\")"
   ]
  },
  {
   "cell_type": "markdown",
   "metadata": {},
   "source": [
    "Para arredondar para algum número de casas decimais e também agrupar por milhares, coloque o `,` antes de `.` em sua especificação de formatação:"
   ]
  },
  {
   "cell_type": "code",
   "execution_count": 57,
   "metadata": {},
   "outputs": [
    {
     "name": "stdout",
     "output_type": "stream",
     "text": [
      "O valor de n é 1,233,234,424,244.56\n"
     ]
    }
   ],
   "source": [
    "n = 1233234424244.5632323\n",
    "print(f\"O valor de n é {n:,.2f}\")"
   ]
  },
  {
   "cell_type": "markdown",
   "metadata": {},
   "source": [
    "O especificador `,.2f` é útil para exibir valores monetários:"
   ]
  },
  {
   "cell_type": "code",
   "execution_count": 58,
   "metadata": {},
   "outputs": [
    {
     "name": "stdout",
     "output_type": "stream",
     "text": [
      "Após gastar R$ 256.35, eu fiquei com R$ 1,743.65 na conta\n"
     ]
    }
   ],
   "source": [
    "saldo = 2000.0\n",
    "gasto = 256.35\n",
    "resto = saldo - gasto\n",
    "\n",
    "print(f\"Após gastar R$ {gasto:.2f}, eu fiquei com R$ {resto:,.2f} na conta\")"
   ]
  },
  {
   "cell_type": "markdown",
   "metadata": {},
   "source": [
    "Outra opção útil é `%`, que é usada para exibir porcentagens. A opção `%` multiplica um número por `100` e o exibe no formato de ponto fixo, seguido por um sinal de porcentagem.\n",
    "\n",
    "A opção `%` deve sempre vir no final da especificação de formatação e você não pode misturá-la com a opção `f`. Por exemplo, `.1%` exibe um número como uma porcentagem com exatamente uma casa decimal:"
   ]
  },
  {
   "cell_type": "code",
   "execution_count": 59,
   "metadata": {},
   "outputs": [
    {
     "name": "stdout",
     "output_type": "stream",
     "text": [
      "Ciro Gomes vence a eleição de 2022 com 67.3% de votos\n",
      "Ciro Gomes vence a eleição de 2022 com 67.28% de votos\n"
     ]
    }
   ],
   "source": [
    "eleitorado = 0.6728\n",
    "\n",
    "# Mostrando com 1 casa decimal\n",
    "print(f\"Ciro Gomes vence a eleição de 2022 com {eleitorado:.1%} de votos\")\n",
    "\n",
    "# Mostrando com 2 casas decimais\n",
    "print(f\"Ciro Gomes vence a eleição de 2022 com {eleitorado:.2%} de votos\")\n"
   ]
  },
  {
   "cell_type": "markdown",
   "metadata": {},
   "source": [
    "Para mais informações sobre opções de formatação, veja: [https://docs.python.org/3/library/string.html#formatspec](https://docs.python.org/3/library/string.html#formatspec)"
   ]
  },
  {
   "cell_type": "markdown",
   "metadata": {},
   "source": [
    "### Exercícios"
   ]
  },
  {
   "cell_type": "code",
   "execution_count": 60,
   "metadata": {},
   "outputs": [
    {
     "name": "stdout",
     "output_type": "stream",
     "text": [
      "R$ 150,000.00\n"
     ]
    }
   ],
   "source": [
    "# Imprima o número 150000 como moeda com os milhares agrupados por vírgulas.\n",
    "# A moeda deve ser exibida com duas casas decimais e começar com o símbolo do\n",
    "# real brasileiro.\n",
    "print(f\"R$ {150000:,.2f}\")"
   ]
  },
  {
   "cell_type": "markdown",
   "metadata": {},
   "source": [
    "# Números Complexos"
   ]
  },
  {
   "cell_type": "markdown",
   "metadata": {},
   "source": [
    "Python é uma das poucas linguagens de programação que fornece suporte integrado para números complexos. Embora os números complexos nem sempre surjam fora dos domínios da computação científica e da computação gráfica, o suporte do Python a eles é um de seus pontos fortes.\n",
    "\n",
    "Se você já fez um pré-cálculo ou uma aula de matemática de álgebra de nível superior, deve se lembrar que um número complexo é um número com dois componentes distintos: uma parte real e uma parte imaginária .\n",
    "\n",
    "Para criar um número complexo em Python, basta escrever a parte real, um sinal de mais e a parte imaginária com a letra `j` no final:\n",
    "\n"
   ]
  },
  {
   "cell_type": "code",
   "execution_count": 62,
   "metadata": {},
   "outputs": [
    {
     "name": "stdout",
     "output_type": "stream",
     "text": [
      "(1+2j)\n"
     ]
    }
   ],
   "source": [
    "n = 1 + 2j"
   ]
  },
  {
   "cell_type": "code",
   "execution_count": 63,
   "metadata": {},
   "outputs": [
    {
     "data": {
      "text/plain": [
       "(1+2j)"
      ]
     },
     "execution_count": 63,
     "metadata": {},
     "output_type": "execute_result"
    }
   ],
   "source": [
    "# Ao inspecionar o valor de n, você notará que o Python envolve o número entre\n",
    "# parênteses:\n",
    "n"
   ]
  },
  {
   "cell_type": "markdown",
   "metadata": {},
   "source": [
    "Essa convenção ajuda a eliminar qualquer confusão de que a saída exibida pode representar uma string ou uma expressão matemática.\n",
    "\n",
    "Os números imaginários vêm com duas propriedades, `.real` e `.imag`, que retornam os componentes reais e imaginários do número, respectivamente:"
   ]
  },
  {
   "cell_type": "code",
   "execution_count": 64,
   "metadata": {},
   "outputs": [
    {
     "data": {
      "text/plain": [
       "1.0"
      ]
     },
     "execution_count": 64,
     "metadata": {},
     "output_type": "execute_result"
    }
   ],
   "source": [
    "n.real"
   ]
  },
  {
   "cell_type": "code",
   "execution_count": 65,
   "metadata": {},
   "outputs": [
    {
     "data": {
      "text/plain": [
       "2.0"
      ]
     },
     "execution_count": 65,
     "metadata": {},
     "output_type": "execute_result"
    }
   ],
   "source": [
    "n.imag"
   ]
  },
  {
   "cell_type": "code",
   "execution_count": 67,
   "metadata": {},
   "outputs": [
    {
     "data": {
      "text/plain": [
       "(1-2j)"
      ]
     },
     "execution_count": 67,
     "metadata": {},
     "output_type": "execute_result"
    }
   ],
   "source": [
    "# Os números complexos também têm um .conjugate()método que retorna o\n",
    "# conjugado complexo do número:\n",
    "n.conjugate()"
   ]
  },
  {
   "cell_type": "markdown",
   "metadata": {},
   "source": [
    "Para qualquer número complexo, seu conjugado é o número complexo com a mesma parte real e uma parte imaginária que é igual em valor absoluto, mas com o sinal oposto. Portanto, neste caso, o conjugado complexo de `(1+2j)`é `(1-2j)`."
   ]
  },
  {
   "cell_type": "markdown",
   "metadata": {},
   "source": [
    "Exceto para o operador de divisão inteira (`//`), todos os operadores aritméticos que trabalham com números flutuantes e inteiros também trabalharão com números complexos. Como este não é um tutorial de matemática avançada, não discutiremos a mecânica da aritmética complexa. Em vez disso, aqui estão alguns exemplos de uso de números complexos com operadores aritméticos:"
   ]
  },
  {
   "cell_type": "code",
   "execution_count": 68,
   "metadata": {},
   "outputs": [
    {
     "name": "stdout",
     "output_type": "stream",
     "text": [
      "(4-2j)\n",
      "(-2+6j)\n",
      "(11+2j)\n",
      "(-0.2+0.4j)\n"
     ]
    },
    {
     "name": "stderr",
     "output_type": "stream",
     "text": [
      "Traceback (most recent call last):\n",
      "  File \"C:\\Users\\josen\\AppData\\Local\\Temp/ipykernel_24748/2667098759.py\", line 12, in <module>\n",
      "    print(a // b)\n",
      "TypeError: can't take floor of complex number.\n"
     ]
    }
   ],
   "source": [
    "a = 1 + 2j\n",
    "b = 3 - 4j\n",
    "\n",
    "print(a + b)\n",
    "print(a - b)\n",
    "print(a * b)\n",
    "print(a / b)\n",
    "\n",
    "import traceback # noqa: E402\n",
    "\n",
    "try:\n",
    "    print(a // b)\n",
    "except TypeError:\n",
    "    traceback.print_exc()\n"
   ]
  },
  {
   "cell_type": "markdown",
   "metadata": {},
   "source": [
    "Curiosamente, apesar de não surpreender a partir de um ponto de vista matemático, objetos `int` e `float` também têm às propriedades `.real` e `.imag`, bem como o método `.conjugate()`."
   ]
  },
  {
   "cell_type": "code",
   "execution_count": 69,
   "metadata": {},
   "outputs": [
    {
     "name": "stdout",
     "output_type": "stream",
     "text": [
      "42\n",
      "0\n",
      "42\n",
      "3.14\n",
      "0.0\n",
      "3.14\n"
     ]
    }
   ],
   "source": [
    "x = 42\n",
    "print(x.real)\n",
    "print(x.imag)\n",
    "print(x.conjugate())\n",
    "\n",
    "y = 3.14\n",
    "print(y.real)\n",
    "print(y.imag)\n",
    "print(y.conjugate())"
   ]
  },
  {
   "cell_type": "markdown",
   "metadata": {},
   "source": [
    "Para floats e inteiros, `.real` e `.conjugate()` sempre retornam o número em si, e `.imag` sempre retorna `0`. Uma coisa a se notar, entretanto, é que `n.real`e `n.imag` retorna um inteiro se `n` for um inteiro e um float se `n` for um float.\n",
    "\n",
    "Agora que você viu os fundamentos dos números complexos, pode estar se perguntando quando precisará usá-los. Se você está aprendendo Python para desenvolvimento web, ciência de dados ou programação de uso geral, a verdade é que talvez você nunca precise usar números complexos.\n",
    "\n",
    "Por outro lado, os números complexos são importantes em domínios como computação científica e computação gráfica. Se você já trabalhou nesses domínios, pode achar útil o suporte embutido do Python para números complexos."
   ]
  },
  {
   "cell_type": "markdown",
   "metadata": {},
   "source": []
  }
 ],
 "metadata": {
  "interpreter": {
   "hash": "8ae6e8347844ce31cefbfab1c46c85d6003d3a1108122483edd0f60efc9feef7"
  },
  "kernelspec": {
   "display_name": "Python 3.9.7 64-bit (conda)",
   "name": "python3"
  },
  "language_info": {
   "codemirror_mode": {
    "name": "ipython",
    "version": 3
   },
   "file_extension": ".py",
   "mimetype": "text/x-python",
   "name": "python",
   "nbconvert_exporter": "python",
   "pygments_lexer": "ipython3",
   "version": "3.9.7"
  },
  "orig_nbformat": 4
 },
 "nbformat": 4,
 "nbformat_minor": 2
}
