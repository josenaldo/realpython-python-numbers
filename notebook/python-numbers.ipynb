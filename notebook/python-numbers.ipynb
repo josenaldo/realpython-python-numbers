{
 "cells": [
  {
   "cell_type": "markdown",
   "metadata": {},
   "source": [
    "# Numbers in Python\n",
    "\n",
    "[https://realpython.com/python-numbers/](https://realpython.com/python-numbers/)"
   ]
  },
  {
   "cell_type": "markdown",
   "metadata": {},
   "source": [
    "Neste tutorial, você aprenderá como:\n",
    "- Crie números inteiros e de ponto flutuante\n",
    "- Arredonde os números para um determinado número de casas decimais\n",
    "- Formatar e exibir números em strings"
   ]
  },
  {
   "cell_type": "markdown",
   "metadata": {},
   "source": [
    "## Números inteiros e de ponto flutuante"
   ]
  },
  {
   "cell_type": "markdown",
   "metadata": {},
   "source": [
    "### Inteiros"
   ]
  },
  {
   "cell_type": "code",
   "execution_count": 3,
   "metadata": {},
   "outputs": [
    {
     "data": {
      "text/plain": [
       "int"
      ]
     },
     "execution_count": 3,
     "metadata": {},
     "output_type": "execute_result"
    }
   ],
   "source": [
    "# Um inteiro é um número sem casas decimais. Em Python, o inteiro tem a\n",
    "# classe int.\n",
    "type(1)"
   ]
  },
  {
   "cell_type": "code",
   "execution_count": 4,
   "metadata": {},
   "outputs": [
    {
     "data": {
      "text/plain": [
       "25"
      ]
     },
     "execution_count": 4,
     "metadata": {},
     "output_type": "execute_result"
    }
   ],
   "source": [
    "# Um número pode ser atribuído a uma variável.\n",
    "num = 25\n",
    "num"
   ]
  },
  {
   "cell_type": "code",
   "execution_count": 7,
   "metadata": {},
   "outputs": [
    {
     "name": "stdout",
     "output_type": "stream",
     "text": [
      "Valor: 25 | classe: <class 'int'>\n"
     ]
    }
   ],
   "source": [
    "# Para converter uma string em um número, usamos o método int().\n",
    "num = int(\"25\")\n",
    "print(f\"Valor: {num} | classe: {type(num)}\")"
   ]
  },
  {
   "cell_type": "code",
   "execution_count": 10,
   "metadata": {},
   "outputs": [
    {
     "name": "stdout",
     "output_type": "stream",
     "text": [
      "1000000 == 1_000_000 ? True\n"
     ]
    }
   ],
   "source": [
    "# Podemos usar o underscore como separador de milhar.\n",
    "num_sem_separador = 1000000\n",
    "num_com_separador = 1_000_000\n",
    "\n",
    "print(f\"1000000 == 1_000_000 ? {num_sem_separador == num_com_separador}\")"
   ]
  },
  {
   "cell_type": "code",
   "execution_count": 1,
   "metadata": {},
   "outputs": [
    {
     "name": "stdout",
     "output_type": "stream",
     "text": [
      "99999999999999999999999999999999999999999999999999999999999999999999999999999999999999999999999999999999999999999999999999999999999999999999999999999999999999999999999999999999999999999999999999999999999999999999999999999999999999999999999999999999999999999999999999999999999999999999999999999999999999999999999999999999999999999999999999999999999999999999999999999999999999999999999999999999999999999999999999999999999999999999999999999999999999999999999999999999999999999999999999999999999999999999999999999999999999999999999999999999999999999999999999999999999999999999999999999999999999999999999999999999999999999999999999999999999999999999999999999999999999999999999999999999999999999999999999999999999999999999999999999999999999999999999999999999999999999999999999999999999999999999999999999999999999999999999999999999999999999999999999999999999999999999999999999999999999999999999999999999999999999999999999999999999999999999999999999999999999999999999999999999999999999999999999999999999999999999999999999999999999999999999999999999999999999999999999999999999999999999999999999999999999999999999999999999999999999999999999999999999999999999999999999999999999999999999999999999999999999999999999999999999999999999999999999999999999999999999999999999999999999999999999999999999999999999999999999999999999999999999999999999999999999999999999999999999999999999999999999999999999999999999999999999999999999999999999999999999999999999999999999999999999999999\n",
      "\n",
      "100000000000000000000000000000000000000000000000000000000000000000000000000000000000000000000000000000000000000000000000000000000000000000000000000000000000000000000000000000000000000000000000000000000000000000000000000000000000000000000000000000000000000000000000000000000000000000000000000000000000000000000000000000000000000000000000000000000000000000000000000000000000000000000000000000000000000000000000000000000000000000000000000000000000000000000000000000000000000000000000000000000000000000000000000000000000000000000000000000000000000000000000000000000000000000000000000000000000000000000000000000000000000000000000000000000000000000000000000000000000000000000000000000000000000000000000000000000000000000000000000000000000000000000000000000000000000000000000000000000000000000000000000000000000000000000000000000000000000000000000000000000000000000000000000000000000000000000000000000000000000000000000000000000000000000000000000000000000000000000000000000000000000000000000000000000000000000000000000000000000000000000000000000000000000000000000000000000000000000000000000000000000000000000000000000000000000000000000000000000000000000000000000000000000000000000000000000000000000000000000000000000000000000000000000000000000000000000000000000000000000000000000000000000000000000000000000000000000000000000000000000000000000000000000000000000000000000000000000000000000000000000000000000000000000000000000000000000000000000000000000000000000000000000\n"
     ]
    }
   ],
   "source": [
    "# Python pode ter números inteiro indecentemente grandes\n",
    "num_grande_pra_carai = int(\n",
    "    \"9999999999999999999999999999999999999999999999999999999999999999999999999\"\n",
    "    \"9999999999999999999999999999999999999999999999999999999999999999999999999\"\n",
    "    \"9999999999999999999999999999999999999999999999999999999999999999999999999\"\n",
    "    \"9999999999999999999999999999999999999999999999999999999999999999999999999\"\n",
    "    \"9999999999999999999999999999999999999999999999999999999999999999999999999\"\n",
    "    \"9999999999999999999999999999999999999999999999999999999999999999999999999\"\n",
    "    \"9999999999999999999999999999999999999999999999999999999999999999999999999\"\n",
    "    \"9999999999999999999999999999999999999999999999999999999999999999999999999\"\n",
    "    \"9999999999999999999999999999999999999999999999999999999999999999999999999\"\n",
    "    \"9999999999999999999999999999999999999999999999999999999999999999999999999\"\n",
    "    \"9999999999999999999999999999999999999999999999999999999999999999999999999\"\n",
    "    \"9999999999999999999999999999999999999999999999999999999999999999999999999\"\n",
    "    \"9999999999999999999999999999999999999999999999999999999999999999999999999\"\n",
    "    \"9999999999999999999999999999999999999999999999999999999999999999999999999\"\n",
    "    \"9999999999999999999999999999999999999999999999999999999999999999999999999\"\n",
    "    \"9999999999999999999999999999999999999999999999999999999999999999999999999\"\n",
    "    \"9999999999999999999999999999999999999999999999999999999999999999999999999\"\n",
    "    \"9999999999999999999999999999999999999999999999999999999999999999999999999\"\n",
    "    \"9999999999999999999999999999999999999999999999999999999999999999999999999\"\n",
    "    \"9999999999999999999999999999999999999999999999999999999999999999999999999\"\n",
    ")\n",
    "\n",
    "print(num_grande_pra_carai)\n",
    "\n",
    "num_grande_pra_carai = num_grande_pra_carai + 1\n",
    "\n",
    "print()\n",
    "print(num_grande_pra_carai)"
   ]
  },
  {
   "cell_type": "code",
   "execution_count": null,
   "metadata": {},
   "outputs": [],
   "source": []
  },
  {
   "cell_type": "markdown",
   "metadata": {},
   "source": [
    "### Números de ponto flutuante"
   ]
  },
  {
   "cell_type": "code",
   "execution_count": 1,
   "metadata": {},
   "outputs": [
    {
     "data": {
      "text/plain": [
       "float"
      ]
     },
     "execution_count": 1,
     "metadata": {},
     "output_type": "execute_result"
    }
   ],
   "source": [
    "# Números de ponto flutuante são números com casas decimais.\n",
    "type(1.0)"
   ]
  },
  {
   "cell_type": "code",
   "execution_count": 3,
   "metadata": {},
   "outputs": [
    {
     "name": "stdout",
     "output_type": "stream",
     "text": [
      "Valor: 1000000.0 | classe: <class 'float'>\n",
      "Valor: 1000000.0 | classe: <class 'float'>\n",
      "Valor: 1000000.0 | classe: <class 'float'>\n"
     ]
    }
   ],
   "source": [
    "# Há três maneiras de criar um número de ponto flutuante:\n",
    "\n",
    "# Declarar o literal normalmente\n",
    "numero_normal = 1000000.0\n",
    "print(f\"Valor: {numero_normal} | classe: {type(numero_normal)}\")\n",
    "\n",
    "# Declarar o literal com separador de milhar\n",
    "numero_com_separador = 1_000_000.0\n",
    "print(f\"Valor: {numero_com_separador} | classe: {type(numero_com_separador)}\")\n",
    "\n",
    "# usar a notação E\n",
    "numero_com_notacao_e = 1e6\n",
    "print(f\"Valor: {numero_com_notacao_e} | classe: {type(numero_com_notacao_e)}\")\n"
   ]
  },
  {
   "cell_type": "code",
   "execution_count": 4,
   "metadata": {},
   "outputs": [
    {
     "data": {
      "text/plain": [
       "2e+17"
      ]
     },
     "execution_count": 4,
     "metadata": {},
     "output_type": "execute_result"
    }
   ],
   "source": [
    "# Números grandes podem ser exibidos com a notação E. O + indica que o expoente\n",
    "# é positivo. No caso, o expoente é de 17.\n",
    "200000000000000000.0"
   ]
  },
  {
   "cell_type": "code",
   "execution_count": 5,
   "metadata": {},
   "outputs": [
    {
     "data": {
      "text/plain": [
       "4e-13"
      ]
     },
     "execution_count": 5,
     "metadata": {},
     "output_type": "execute_result"
    }
   ],
   "source": [
    "# Caso o expoente seja negativo, o número é menor que 1\n",
    "0.0000000000004\n"
   ]
  },
  {
   "cell_type": "code",
   "execution_count": 9,
   "metadata": {},
   "outputs": [
    {
     "data": {
      "text/plain": [
       "inf"
      ]
     },
     "execution_count": 9,
     "metadata": {},
     "output_type": "execute_result"
    }
   ],
   "source": [
    "# Diferente dos inteiros, os floats tem um tamanho máximo, que é dependente do\n",
    "# sistema, e varia em torno de 2x10^400.\n",
    "# Curiosidade: esse número é maior que o número de átomos no universo.\n",
    "a = 2e400\n",
    "a"
   ]
  },
  {
   "cell_type": "code",
   "execution_count": 10,
   "metadata": {},
   "outputs": [
    {
     "data": {
      "text/plain": [
       "float"
      ]
     },
     "execution_count": 10,
     "metadata": {},
     "output_type": "execute_result"
    }
   ],
   "source": [
    "# Quando você atinge o valor máximo, o número é truncado para o valor inf\n",
    "# (infinito).O tipo de inf é float\n",
    "type(a)"
   ]
  },
  {
   "cell_type": "code",
   "execution_count": 12,
   "metadata": {},
   "outputs": [
    {
     "data": {
      "text/plain": [
       "inf"
      ]
     },
     "execution_count": 12,
     "metadata": {},
     "output_type": "execute_result"
    }
   ],
   "source": [
    "# Você pode obter o valor inf com a função float(\"inf\"). Assim, obtemos o\n",
    "# maior valor para float python em uma dada plataforma\n",
    "float(\"inf\")"
   ]
  },
  {
   "cell_type": "code",
   "execution_count": 15,
   "metadata": {},
   "outputs": [
    {
     "name": "stdout",
     "output_type": "stream",
     "text": [
      "Soma: inf | Classe: <class 'float'>\n",
      "Subtração: inf | Classe: <class 'float'>\n"
     ]
    }
   ],
   "source": [
    "# Qualquer operação com inf retorna um inf\n",
    "soma = float(\"inf\") + 10000\n",
    "print(f\"Soma: {soma} | Classe: {type(soma)}\")\n",
    "\n",
    "subtracao = float(\"inf\") - 10000\n",
    "print(f\"Subtração: {subtracao} | Classe: {type(subtracao)}\")\n"
   ]
  },
  {
   "cell_type": "code",
   "execution_count": 16,
   "metadata": {},
   "outputs": [
    {
     "data": {
      "text/plain": [
       "-inf"
      ]
     },
     "execution_count": 16,
     "metadata": {},
     "output_type": "execute_result"
    }
   ],
   "source": [
    "# Se inf é o maior valor, -inf nidica o menor valor\n",
    "-2e400"
   ]
  },
  {
   "cell_type": "markdown",
   "metadata": {},
   "source": [
    "### Exercícios"
   ]
  },
  {
   "cell_type": "markdown",
   "metadata": {},
   "source": [
    "1. Escreva um programa que crie duas variáveis, `num1` e `num2`. Tanto `num1` quanto `num2` devem ser atribuídos ao literal inteiro `25000000`, um escrito com sublinhados e outro sem. Imprima `num1` e `num2` em duas linhas separadas."
   ]
  },
  {
   "cell_type": "code",
   "execution_count": 18,
   "metadata": {},
   "outputs": [
    {
     "name": "stdout",
     "output_type": "stream",
     "text": [
      "num1 == 25000000\n",
      "num2 == 25000000\n"
     ]
    }
   ],
   "source": [
    "num1 = 25000000\n",
    "num2 = 25_000_000\n",
    "print(f\"num1 == {num1}\")\n",
    "print(f\"num2 == {num2}\")"
   ]
  },
  {
   "cell_type": "markdown",
   "metadata": {},
   "source": [
    "## Operadores aritméticos e expressões"
   ]
  }
 ],
 "metadata": {
  "interpreter": {
   "hash": "8ae6e8347844ce31cefbfab1c46c85d6003d3a1108122483edd0f60efc9feef7"
  },
  "kernelspec": {
   "display_name": "Python 3.9.7 64-bit (conda)",
   "name": "python3"
  },
  "language_info": {
   "codemirror_mode": {
    "name": "ipython",
    "version": 3
   },
   "file_extension": ".py",
   "mimetype": "text/x-python",
   "name": "python",
   "nbconvert_exporter": "python",
   "pygments_lexer": "ipython3",
   "version": "3.9.7"
  },
  "orig_nbformat": 4
 },
 "nbformat": 4,
 "nbformat_minor": 2
}
